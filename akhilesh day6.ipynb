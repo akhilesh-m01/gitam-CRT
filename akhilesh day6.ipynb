{
 "cells": [
  {
   "cell_type": "code",
   "execution_count": 1,
   "metadata": {},
   "outputs": [
    {
     "name": "stdout",
     "output_type": "stream",
     "text": [
      "[1, 2, 3, 5, 6, 8]\n"
     ]
    }
   ],
   "source": [
    "li=[5,3,6,2,8,1]\n",
    "li.sort()\n",
    "print(li)"
   ]
  },
  {
   "cell_type": "code",
   "execution_count": 5,
   "metadata": {},
   "outputs": [
    {
     "name": "stdout",
     "output_type": "stream",
     "text": [
      "[3, 7, 4, 71, 35]\n"
     ]
    }
   ],
   "source": [
    "li=[3,7,4,71,35,23]\n",
    "li.pop()\n",
    "print(li)"
   ]
  },
  {
   "cell_type": "code",
   "execution_count": 6,
   "metadata": {},
   "outputs": [
    {
     "name": "stdout",
     "output_type": "stream",
     "text": [
      "[3, 7, 4, 71, 35, 23, 54, 21]\n"
     ]
    }
   ],
   "source": [
    "l2=[23,54,21]\n",
    "li.extend(l2)\n",
    "print(li)"
   ]
  },
  {
   "cell_type": "markdown",
   "metadata": {},
   "source": [
    "# dictionary\n",
    "- it works on concept of unique data\n",
    "- key,value is the unique identofier a value\n",
    "- each key is separated from value colon(:)\n",
    "- each key and value is separated by comma(,)\n",
    "- dictionaries are enclosed with curly brackets({)"
   ]
  },
  {
   "cell_type": "code",
   "execution_count": 11,
   "metadata": {},
   "outputs": [
    {
     "name": "stdout",
     "output_type": "stream",
     "text": [
      "{'akhil': 'akhilesh', 'a': 1}\n",
      "<class 'dict'>\n"
     ]
    }
   ],
   "source": [
    "d1={\"akhil\":\"akhilesh\",\"a\":1}\n",
    "print(d1)\n",
    "print(type(d1))"
   ]
  },
  {
   "cell_type": "code",
   "execution_count": 15,
   "metadata": {},
   "outputs": [
    {
     "name": "stdout",
     "output_type": "stream",
     "text": [
      "{'akhil': 'akhilesh', 'a': 2}\n"
     ]
    }
   ],
   "source": [
    "d1[\"a\"]=2\n",
    "print(d1)"
   ]
  },
  {
   "cell_type": "code",
   "execution_count": 18,
   "metadata": {},
   "outputs": [
    {
     "name": "stdout",
     "output_type": "stream",
     "text": [
      "{'akhil': 'akhilesh'}\n"
     ]
    }
   ],
   "source": [
    "del d1['a']\n",
    "print(d1)"
   ]
  },
  {
   "cell_type": "markdown",
   "metadata": {},
   "source": [
    "# tuple\n",
    "- tuple are enclosed with parenthesis\n",
    "- difference between tuple and list\n",
    "- list are mutable-can be changed/modified/read and write the data\n",
    "- tuple is immutable-cant be changed/modified-read only the data"
   ]
  },
  {
   "cell_type": "code",
   "execution_count": 23,
   "metadata": {},
   "outputs": [
    {
     "name": "stdout",
     "output_type": "stream",
     "text": [
      "(1, 2, 3, 4, 5, 'a')\n"
     ]
    }
   ],
   "source": [
    "t=(1,2,3,4,5,\"a\")#we cant assign values in tuples as it is immutable\n",
    "print(t)"
   ]
  },
  {
   "cell_type": "code",
   "execution_count": 28,
   "metadata": {},
   "outputs": [
    {
     "name": "stdout",
     "output_type": "stream",
     "text": [
      "126\n"
     ]
    }
   ],
   "source": [
    "# functionto return the large value from the list\n",
    "def larnum(l):\n",
    "    return max(l)\n",
    "li=[1,3,45,126]\n",
    "print(larnum(li))"
   ]
  },
  {
   "cell_type": "markdown",
   "metadata": {},
   "source": [
    "- contact application\n",
    "- add contact details\n",
    "- search the contact details\n",
    "- list all the contacts(merge/import)\n",
    "- name 1:value\n",
    "- name 2:value\n",
    "- modify or update the contact detaials\n",
    "- delete the contact details"
   ]
  },
  {
   "cell_type": "code",
   "execution_count": 7,
   "metadata": {},
   "outputs": [
    {
     "name": "stdout",
     "output_type": "stream",
     "text": [
      "enter the name:ad\n",
      "enter the number12\n",
      "{'ad': 12}\n",
      "enter the name to search:ad\n"
     ]
    },
    {
     "ename": "NameError",
     "evalue": "name 'phone' is not defined",
     "output_type": "error",
     "traceback": [
      "\u001b[1;31m---------------------------------------------------------------------------\u001b[0m",
      "\u001b[1;31mNameError\u001b[0m                                 Traceback (most recent call last)",
      "\u001b[1;32m<ipython-input-7-6f657cb26fb5>\u001b[0m in \u001b[0;36m<module>\u001b[1;34m\u001b[0m\n\u001b[0;32m     13\u001b[0m \u001b[0maddcontact\u001b[0m\u001b[1;33m(\u001b[0m\u001b[1;33m)\u001b[0m\u001b[1;33m\u001b[0m\u001b[1;33m\u001b[0m\u001b[0m\n\u001b[0;32m     14\u001b[0m \u001b[0mprint\u001b[0m\u001b[1;33m(\u001b[0m\u001b[0mc\u001b[0m\u001b[1;33m)\u001b[0m\u001b[1;33m\u001b[0m\u001b[1;33m\u001b[0m\u001b[0m\n\u001b[1;32m---> 15\u001b[1;33m \u001b[0msearch\u001b[0m\u001b[1;33m(\u001b[0m\u001b[1;33m)\u001b[0m\u001b[1;33m\u001b[0m\u001b[1;33m\u001b[0m\u001b[0m\n\u001b[0m",
      "\u001b[1;32m<ipython-input-7-6f657cb26fb5>\u001b[0m in \u001b[0;36msearch\u001b[1;34m()\u001b[0m\n\u001b[0;32m      8\u001b[0m     \u001b[0mname\u001b[0m\u001b[1;33m=\u001b[0m\u001b[0minput\u001b[0m\u001b[1;33m(\u001b[0m\u001b[1;34m\"enter the name to search:\"\u001b[0m\u001b[1;33m)\u001b[0m\u001b[1;33m\u001b[0m\u001b[1;33m\u001b[0m\u001b[0m\n\u001b[0;32m      9\u001b[0m     \u001b[1;32mif\u001b[0m \u001b[0mname\u001b[0m \u001b[1;32min\u001b[0m \u001b[0mc\u001b[0m\u001b[1;33m:\u001b[0m\u001b[1;33m\u001b[0m\u001b[1;33m\u001b[0m\u001b[0m\n\u001b[1;32m---> 10\u001b[1;33m         \u001b[0mprint\u001b[0m\u001b[1;33m(\u001b[0m\u001b[0mphone\u001b[0m\u001b[1;33m)\u001b[0m\u001b[1;33m\u001b[0m\u001b[1;33m\u001b[0m\u001b[0m\n\u001b[0m\u001b[0;32m     11\u001b[0m     \u001b[1;32melse\u001b[0m\u001b[1;33m:\u001b[0m\u001b[1;33m\u001b[0m\u001b[1;33m\u001b[0m\u001b[0m\n\u001b[0;32m     12\u001b[0m         \u001b[0mprint\u001b[0m\u001b[1;33m(\u001b[0m\u001b[1;34m\"not found\"\u001b[0m\u001b[1;33m)\u001b[0m\u001b[1;33m\u001b[0m\u001b[1;33m\u001b[0m\u001b[0m\n",
      "\u001b[1;31mNameError\u001b[0m: name 'phone' is not defined"
     ]
    }
   ],
   "source": [
    "c={}# empty dictionary object\n",
    "def addcontact():\n",
    "    name=input(\"enter the name:\")\n",
    "    phone=int(input(\"enter the number\"))\n",
    "    c[name]=phone\n",
    "    return c\n",
    "def search():\n",
    "    name=input(\"enter the name to search:\")\n",
    "    if name in c:\n",
    "        print(phone)\n",
    "    else:\n",
    "        print(\"not found\")\n",
    "addcontact()\n",
    "print(c)\n",
    "search()"
   ]
  },
  {
   "cell_type": "code",
   "execution_count": 8,
   "metadata": {},
   "outputs": [
    {
     "name": "stdout",
     "output_type": "stream",
     "text": [
      "enter the nameakhil\n",
      "enter phone number123\n",
      "contacts are added\n",
      "{'akhil': '123'}\n"
     ]
    }
   ],
   "source": [
    "di={}\n",
    "name=input(\"enter the name\")\n",
    "phone=input(\"enter phone number\")\n",
    "\n",
    "\n",
    "def addcontact1(name,phone):\n",
    "    if name not in di:\n",
    "        di[name]=phone\n",
    "        print(\"contacts are added\")\n",
    "    else:\n",
    "        print(\"not added\")\n",
    "\n",
    "addcontact1(name,phone)\n",
    "print(di)\n"
   ]
  },
  {
   "cell_type": "code",
   "execution_count": 14,
   "metadata": {},
   "outputs": [
    {
     "name": "stdout",
     "output_type": "stream",
     "text": [
      "{'akhil': '123'}\n",
      "not found\n"
     ]
    }
   ],
   "source": [
    "def search(name):\n",
    "    if name in di:\n",
    "        print(di)\n",
    "    else:\n",
    "        print(\"not found\")\n",
    "search(\"akhil\")\n",
    "search(\"sai\")"
   ]
  },
  {
   "cell_type": "code",
   "execution_count": 20,
   "metadata": {},
   "outputs": [
    {
     "name": "stdout",
     "output_type": "stream",
     "text": [
      "enter nameakhil\n",
      "enter the p no:123\n",
      "1 contacts are added\n",
      "{'akhil': '123'}\n"
     ]
    }
   ],
   "source": [
    "def importcontact(newcontact):\n",
    "    di.update(newcontact)\n",
    "    print(len(newcontact.keys()),\"contacts are added\")\n",
    "    return\n",
    "name=input(\"enter name\")\n",
    "phone=input(\"enter the p no:\")\n",
    "newcontact={name:phone}\n",
    "importcontact(newcontact)\n",
    "print(di)"
   ]
  },
  {
   "cell_type": "code",
   "execution_count": null,
   "metadata": {},
   "outputs": [],
   "source": []
  }
 ],
 "metadata": {
  "kernelspec": {
   "display_name": "Python 3",
   "language": "python",
   "name": "python3"
  },
  "language_info": {
   "codemirror_mode": {
    "name": "ipython",
    "version": 3
   },
   "file_extension": ".py",
   "mimetype": "text/x-python",
   "name": "python",
   "nbconvert_exporter": "python",
   "pygments_lexer": "ipython3",
   "version": "3.7.3"
  }
 },
 "nbformat": 4,
 "nbformat_minor": 2
}
