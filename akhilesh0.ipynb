{
 "cells": [
  {
   "cell_type": "markdown",
   "metadata": {},
   "source": [
    "# Hello jupiter markdown\n",
    "## hello jupiter markdown\n",
    "### hello jupiter markdown\n",
    "#### hello jupiter markdown\n",
    "##### hello jupiter markdown\n",
    "###### hello jupiter markdown\n",
    "\n"
   ]
  },
  {
   "cell_type": "markdown",
   "metadata": {},
   "source": [
    "- a\n",
    "    - *akhil*\n",
    "        - **akhilesh**\n",
    "            - ***akhil***\n",
    "\n"
   ]
  },
  {
   "cell_type": "markdown",
   "metadata": {},
   "source": [
    "## python introduction\n",
    "- python 3\n",
    "- used as functional programming\n",
    "- used as scripting programming\n",
    "- initially designd by ***Guido Van Rossum*** in 1991"
   ]
  },
  {
   "cell_type": "code",
   "execution_count": 7,
   "metadata": {},
   "outputs": [
    {
     "name": "stdout",
     "output_type": "stream",
     "text": [
      "hello world\n",
      "welcome to python programming\n"
     ]
    }
   ],
   "source": [
    "# input and output function (anythin that starts with # symbol in the code section will be a comment)\n",
    "# output function\n",
    "print(\"hello world\")\n",
    "print(\"welcome to python programming\")"
   ]
  },
  {
   "cell_type": "code",
   "execution_count": 12,
   "metadata": {},
   "outputs": [
    {
     "name": "stdout",
     "output_type": "stream",
     "text": [
      "code cell markdown cell\n"
     ]
    }
   ],
   "source": [
    "print(\"code cell\",end=' ')\n",
    "print(\"markdown cell\")"
   ]
  },
  {
   "cell_type": "code",
   "execution_count": 18,
   "metadata": {},
   "outputs": [
    {
     "name": "stdout",
     "output_type": "stream",
     "text": [
      "enter your name-akhilesh\n",
      " your name is akhilesh\n"
     ]
    }
   ],
   "source": [
    "# inpiut function\n",
    "print (\"enter your name-\",end=\"\")\n",
    "a=input()\n",
    "print(\" your name is\",a)"
   ]
  },
  {
   "cell_type": "code",
   "execution_count": null,
   "metadata": {},
   "outputs": [],
   "source": []
  }
 ],
 "metadata": {
  "kernelspec": {
   "display_name": "Python 3",
   "language": "python",
   "name": "python3"
  },
  "language_info": {
   "codemirror_mode": {
    "name": "ipython",
    "version": 3
   },
   "file_extension": ".py",
   "mimetype": "text/x-python",
   "name": "python",
   "nbconvert_exporter": "python",
   "pygments_lexer": "ipython3",
   "version": "3.7.3"
  }
 },
 "nbformat": 4,
 "nbformat_minor": 2
}
